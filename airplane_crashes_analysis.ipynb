{
 "cells": [
  {
   "cell_type": "markdown",
   "metadata": {},
   "source": [
    "# Airplane crash investigation analysis\n",
    "\n",
    "* Description\n",
    "* Dataset\n",
    "* Goal\n",
    "* Imports & Constants\n",
    "* Data Exploration\n",
    "\n",
    "## Description\n",
    "\n",
    "NOTE: This dataset was taken from kaggle - \n",
    "https://www.kaggle.com/saurograndi/airplane-crashes-since-1908\n",
    "\n",
    "## Dataset\n",
    "\n",
    "Analysis of the public dataset: \"Airplane Crashes and Fatalities Since 1908\" (Full history of airplane crashes throughout the world, from 1908-present) hosted by Open Data by Socrata available at:\n",
    "\n",
    "https://opendata.socrata.com/Government/Airplane-Crashes-and-Fatalities-Since-1908/q2te-8cvq\n",
    "\n",
    "## Goal\n",
    "\n",
    "We will try to answer these questions through the analysis - \n",
    "\n",
    "1) How many planes crashed yearly? Is there any pattern in the day, month or time of the plane crash?\n",
    "\n",
    "2) How many people were on board? how many survived? how many died?\n",
    "\n",
    "3) Highest number of crashes by operator and Type of aircrafts.\n",
    "\n",
    "4) ‘Summary’ field has the details about the crashes. Find the reasons of the crash and categorize them in different clusters i.e Fire, shot down, weather (for the ‘Blanks’ in the data category can be UNKNOWN) you are open to make clusters of your choice but they should not exceed 7.\n",
    "\n",
    "5) Find the number of crashed aircrafts and number of deaths against each category from above step.\n",
    "\n",
    "6) Find any interesting trends/behaviors that you encounter when you analyze the dataset."
   ]
  },
  {
   "cell_type": "markdown",
   "metadata": {},
   "source": [
    "## Imports & Constants"
   ]
  },
  {
   "cell_type": "code",
   "execution_count": 1,
   "metadata": {
    "collapsed": true
   },
   "outputs": [],
   "source": [
    "import warnings\n",
    "warnings.filterwarnings(\"ignore\", category=UserWarning)"
   ]
  },
  {
   "cell_type": "code",
   "execution_count": 2,
   "metadata": {
    "collapsed": true
   },
   "outputs": [],
   "source": [
    "from __future__ import division\n",
    "import numpy as np\n",
    "import pandas as pd\n",
    "pd.options.mode.chained_assignment = None\n",
    "import matplotlib.pyplot as plt\n",
    "import seaborn as sns\n",
    "sns.set(style=\"whitegrid\")\n",
    "sns.set_color_codes(\"pastel\")\n",
    "import datetime\n",
    "%matplotlib inline"
   ]
  },
  {
   "cell_type": "markdown",
   "metadata": {},
   "source": [
    "## Data Exploration"
   ]
  },
  {
   "cell_type": "markdown",
   "metadata": {},
   "source": [
    "Reading the data into a dataframe"
   ]
  },
  {
   "cell_type": "code",
   "execution_count": 3,
   "metadata": {
    "collapsed": false
   },
   "outputs": [
    {
     "data": {
      "text/html": [
       "<div>\n",
       "<table border=\"1\" class=\"dataframe\">\n",
       "  <thead>\n",
       "    <tr style=\"text-align: right;\">\n",
       "      <th></th>\n",
       "      <th>Date</th>\n",
       "      <th>Time</th>\n",
       "      <th>Location</th>\n",
       "      <th>Operator</th>\n",
       "      <th>Flight #</th>\n",
       "      <th>Route</th>\n",
       "      <th>Type</th>\n",
       "      <th>Registration</th>\n",
       "      <th>cn/In</th>\n",
       "      <th>Aboard</th>\n",
       "      <th>Fatalities</th>\n",
       "      <th>Ground</th>\n",
       "      <th>Summary</th>\n",
       "    </tr>\n",
       "  </thead>\n",
       "  <tbody>\n",
       "    <tr>\n",
       "      <th>0</th>\n",
       "      <td>09/17/1908</td>\n",
       "      <td>17:18</td>\n",
       "      <td>Fort Myer, Virginia</td>\n",
       "      <td>Military - U.S. Army</td>\n",
       "      <td>NaN</td>\n",
       "      <td>Demonstration</td>\n",
       "      <td>Wright Flyer III</td>\n",
       "      <td>NaN</td>\n",
       "      <td>1</td>\n",
       "      <td>2</td>\n",
       "      <td>1</td>\n",
       "      <td>0</td>\n",
       "      <td>During a demonstration flight, a U.S. Army fly...</td>\n",
       "    </tr>\n",
       "    <tr>\n",
       "      <th>1</th>\n",
       "      <td>07/12/1912</td>\n",
       "      <td>06:30</td>\n",
       "      <td>AtlantiCity, New Jersey</td>\n",
       "      <td>Military - U.S. Navy</td>\n",
       "      <td>NaN</td>\n",
       "      <td>Test flight</td>\n",
       "      <td>Dirigible</td>\n",
       "      <td>NaN</td>\n",
       "      <td>NaN</td>\n",
       "      <td>5</td>\n",
       "      <td>5</td>\n",
       "      <td>0</td>\n",
       "      <td>First U.S. dirigible Akron exploded just offsh...</td>\n",
       "    </tr>\n",
       "    <tr>\n",
       "      <th>2</th>\n",
       "      <td>08/06/1913</td>\n",
       "      <td>NaN</td>\n",
       "      <td>Victoria, British Columbia, Canada</td>\n",
       "      <td>Private</td>\n",
       "      <td>-</td>\n",
       "      <td>NaN</td>\n",
       "      <td>Curtiss seaplane</td>\n",
       "      <td>NaN</td>\n",
       "      <td>NaN</td>\n",
       "      <td>1</td>\n",
       "      <td>1</td>\n",
       "      <td>0</td>\n",
       "      <td>The first fatal airplane accident in Canada oc...</td>\n",
       "    </tr>\n",
       "    <tr>\n",
       "      <th>3</th>\n",
       "      <td>09/09/1913</td>\n",
       "      <td>18:30</td>\n",
       "      <td>Over the North Sea</td>\n",
       "      <td>Military - German Navy</td>\n",
       "      <td>NaN</td>\n",
       "      <td>NaN</td>\n",
       "      <td>Zeppelin L-1 (airship)</td>\n",
       "      <td>NaN</td>\n",
       "      <td>NaN</td>\n",
       "      <td>20</td>\n",
       "      <td>14</td>\n",
       "      <td>0</td>\n",
       "      <td>The airship flew into a thunderstorm and encou...</td>\n",
       "    </tr>\n",
       "    <tr>\n",
       "      <th>4</th>\n",
       "      <td>10/17/1913</td>\n",
       "      <td>10:30</td>\n",
       "      <td>Near Johannisthal, Germany</td>\n",
       "      <td>Military - German Navy</td>\n",
       "      <td>NaN</td>\n",
       "      <td>NaN</td>\n",
       "      <td>Zeppelin L-2 (airship)</td>\n",
       "      <td>NaN</td>\n",
       "      <td>NaN</td>\n",
       "      <td>30</td>\n",
       "      <td>30</td>\n",
       "      <td>0</td>\n",
       "      <td>Hydrogen gas which was being vented was sucked...</td>\n",
       "    </tr>\n",
       "  </tbody>\n",
       "</table>\n",
       "</div>"
      ],
      "text/plain": [
       "         Date   Time                            Location  \\\n",
       "0  09/17/1908  17:18                 Fort Myer, Virginia   \n",
       "1  07/12/1912  06:30             AtlantiCity, New Jersey   \n",
       "2  08/06/1913    NaN  Victoria, British Columbia, Canada   \n",
       "3  09/09/1913  18:30                  Over the North Sea   \n",
       "4  10/17/1913  10:30          Near Johannisthal, Germany   \n",
       "\n",
       "                 Operator Flight #          Route                    Type  \\\n",
       "0    Military - U.S. Army      NaN  Demonstration        Wright Flyer III   \n",
       "1    Military - U.S. Navy      NaN    Test flight               Dirigible   \n",
       "2                 Private        -            NaN        Curtiss seaplane   \n",
       "3  Military - German Navy      NaN            NaN  Zeppelin L-1 (airship)   \n",
       "4  Military - German Navy      NaN            NaN  Zeppelin L-2 (airship)   \n",
       "\n",
       "  Registration cn/In  Aboard  Fatalities  Ground  \\\n",
       "0          NaN     1       2           1       0   \n",
       "1          NaN   NaN       5           5       0   \n",
       "2          NaN   NaN       1           1       0   \n",
       "3          NaN   NaN      20          14       0   \n",
       "4          NaN   NaN      30          30       0   \n",
       "\n",
       "                                             Summary  \n",
       "0  During a demonstration flight, a U.S. Army fly...  \n",
       "1  First U.S. dirigible Akron exploded just offsh...  \n",
       "2  The first fatal airplane accident in Canada oc...  \n",
       "3  The airship flew into a thunderstorm and encou...  \n",
       "4  Hydrogen gas which was being vented was sucked...  "
      ]
     },
     "execution_count": 3,
     "metadata": {},
     "output_type": "execute_result"
    }
   ],
   "source": [
    "crash = pd.read_csv(\"Airplane_Crashes_and_Fatalities_Since_1908.csv\",low_memory=False)\n",
    "crash.head()"
   ]
  },
  {
   "cell_type": "markdown",
   "metadata": {},
   "source": [
    "Checking the datatypes of all the columns in the dataframe"
   ]
  },
  {
   "cell_type": "code",
   "execution_count": 4,
   "metadata": {
    "collapsed": false
   },
   "outputs": [
    {
     "data": {
      "text/plain": [
       "Date             object\n",
       "Time             object\n",
       "Location         object\n",
       "Operator         object\n",
       "Flight #         object\n",
       "Route            object\n",
       "Type             object\n",
       "Registration     object\n",
       "cn/In            object\n",
       "Aboard          float64\n",
       "Fatalities      float64\n",
       "Ground          float64\n",
       "Summary          object\n",
       "dtype: object"
      ]
     },
     "execution_count": 4,
     "metadata": {},
     "output_type": "execute_result"
    }
   ],
   "source": [
    "crash.dtypes"
   ]
  },
  {
   "cell_type": "markdown",
   "metadata": {},
   "source": [
    "Checking each column to see how much percentage of each column has null values in it. This is to determine which columns would be more significant for analysis."
   ]
  },
  {
   "cell_type": "code",
   "execution_count": 5,
   "metadata": {
    "collapsed": false,
    "scrolled": true
   },
   "outputs": [
    {
     "data": {
      "text/plain": [
       "Date % null :              0.000\n",
       "Fatalities % null :        0.228\n",
       "Operator % null :          0.342\n",
       "Location % null :          0.380\n",
       "Aboard % null :            0.418\n",
       "Ground % null :            0.418\n",
       "Type % null :              0.513\n",
       "Registration % null :      6.359\n",
       "Summary % null :           7.403\n",
       "cn/In % null :            23.311\n",
       "Route % null :            32.384\n",
       "Time % null :             42.122\n",
       "Flight # % null :         79.708\n",
       "dtype: float64"
      ]
     },
     "execution_count": 5,
     "metadata": {},
     "output_type": "execute_result"
    }
   ],
   "source": [
    "ind = []\n",
    "val = []\n",
    "for col in crash.columns:\n",
    "    ind.append(col + \" % null : \")\n",
    "    try: \n",
    "        value = (pd.isnull(crash[col]).value_counts()[True]/crash.shape[0])*100\n",
    "    except:\n",
    "        value = 0\n",
    "    val.append(round(value,3))\n",
    "    \n",
    "null_table = pd.Series(val,index=ind)\n",
    "null_table.sort_values()"
   ]
  },
  {
   "cell_type": "markdown",
   "metadata": {},
   "source": [
    "Checking summary statistics to understand the numerical columns of the dataframe"
   ]
  },
  {
   "cell_type": "code",
   "execution_count": 6,
   "metadata": {
    "collapsed": false
   },
   "outputs": [
    {
     "data": {
      "text/html": [
       "<div>\n",
       "<table border=\"1\" class=\"dataframe\">\n",
       "  <thead>\n",
       "    <tr style=\"text-align: right;\">\n",
       "      <th></th>\n",
       "      <th>Aboard</th>\n",
       "      <th>Fatalities</th>\n",
       "      <th>Ground</th>\n",
       "    </tr>\n",
       "  </thead>\n",
       "  <tbody>\n",
       "    <tr>\n",
       "      <th>count</th>\n",
       "      <td>5246.000000</td>\n",
       "      <td>5256.000000</td>\n",
       "      <td>5246.000000</td>\n",
       "    </tr>\n",
       "    <tr>\n",
       "      <th>mean</th>\n",
       "      <td>27.554518</td>\n",
       "      <td>20.068303</td>\n",
       "      <td>1.608845</td>\n",
       "    </tr>\n",
       "    <tr>\n",
       "      <th>std</th>\n",
       "      <td>43.076711</td>\n",
       "      <td>33.199952</td>\n",
       "      <td>53.987827</td>\n",
       "    </tr>\n",
       "    <tr>\n",
       "      <th>min</th>\n",
       "      <td>0.000000</td>\n",
       "      <td>0.000000</td>\n",
       "      <td>0.000000</td>\n",
       "    </tr>\n",
       "    <tr>\n",
       "      <th>25%</th>\n",
       "      <td>5.000000</td>\n",
       "      <td>3.000000</td>\n",
       "      <td>0.000000</td>\n",
       "    </tr>\n",
       "    <tr>\n",
       "      <th>50%</th>\n",
       "      <td>13.000000</td>\n",
       "      <td>9.000000</td>\n",
       "      <td>0.000000</td>\n",
       "    </tr>\n",
       "    <tr>\n",
       "      <th>75%</th>\n",
       "      <td>30.000000</td>\n",
       "      <td>23.000000</td>\n",
       "      <td>0.000000</td>\n",
       "    </tr>\n",
       "    <tr>\n",
       "      <th>max</th>\n",
       "      <td>644.000000</td>\n",
       "      <td>583.000000</td>\n",
       "      <td>2750.000000</td>\n",
       "    </tr>\n",
       "  </tbody>\n",
       "</table>\n",
       "</div>"
      ],
      "text/plain": [
       "            Aboard   Fatalities       Ground\n",
       "count  5246.000000  5256.000000  5246.000000\n",
       "mean     27.554518    20.068303     1.608845\n",
       "std      43.076711    33.199952    53.987827\n",
       "min       0.000000     0.000000     0.000000\n",
       "25%       5.000000     3.000000     0.000000\n",
       "50%      13.000000     9.000000     0.000000\n",
       "75%      30.000000    23.000000     0.000000\n",
       "max     644.000000   583.000000  2750.000000"
      ]
     },
     "execution_count": 6,
     "metadata": {},
     "output_type": "execute_result"
    }
   ],
   "source": [
    "crash.describe()"
   ]
  },
  {
   "cell_type": "markdown",
   "metadata": {},
   "source": [
    "Note: I was not able to find out what the column \"ground\" stands for. Will continue looking but for now, I am excluding that from this analysis"
   ]
  },
  {
   "cell_type": "markdown",
   "metadata": {},
   "source": [
    "### 1) How many planes crashed yearly? Is there any pattern in the day, month or time of the plane crash?"
   ]
  },
  {
   "cell_type": "code",
   "execution_count": 7,
   "metadata": {
    "collapsed": false
   },
   "outputs": [],
   "source": [
    "# changing the datatype of \"Date\" column from string type to datetime datatype\n",
    "crash[\"Date\"] = pd.to_datetime(crash[\"Date\"])\n",
    "\n",
    "# changing the datatype of \"Time\" column from string to datetime format\n",
    "\n",
    "def make_datetime(x):\n",
    "    try: \n",
    "        return datetime.datetime.strptime(x, '%H:%M').time()\n",
    "    except:\n",
    "        return np.nan\n",
    "\n",
    "crash[\"Time\"] = crash[\"Time\"].apply(make_datetime)"
   ]
  },
  {
   "cell_type": "code",
   "execution_count": 8,
   "metadata": {
    "collapsed": false
   },
   "outputs": [],
   "source": [
    "# Extracting the year, month and day out of the Date column\n",
    "crash[\"Year\"] = crash[\"Date\"].apply(lambda x: x.year)\n",
    "months = [\"January\",\"February\",\"March\",\"April\",\"May\", \"June\", \"July\",\"August\",\"September\",\"October\",\"November\",\"December\"]\n",
    "crash[\"Month\"] = crash[\"Date\"].apply(lambda x: x.month)\n",
    "crash[\"Day\"] = crash[\"Date\"].apply(lambda x: x.day)\n",
    "\n",
    "# Extracting the hour out of the time column\n",
    "# dropping null columns for this analysis\n",
    "crash_time = crash.dropna(subset=[\"Time\"])\n",
    "crash_time[\"Hour\"] = crash_time[\"Time\"].apply(lambda x: x.hour)"
   ]
  },
  {
   "cell_type": "code",
   "execution_count": 9,
   "metadata": {
    "collapsed": false
   },
   "outputs": [
    {
     "data": {
      "image/png": "[encoded data removed]",
      "text/plain": [
       "<matplotlib.figure.Figure at 0x1a4434a8>"
      ]
     },
     "metadata": {},
     "output_type": "display_data"
    }
   ],
   "source": [
    "crashes_year = crash[\"Year\"].value_counts().sort_index()\n",
    "crashes_hour = crash_time[\"Hour\"].value_counts().sort_index()\n",
    "crashes_month = crash[\"Month\"].value_counts().sort_index()\n",
    "\n",
    "fig = plt.figure(figsize=(15,20))\n",
    "ax1 = fig.add_subplot(3,1,1)\n",
    "sns.barplot(x=crashes_year.index,y=crashes_year.values,ax=ax1,color='b')\n",
    "ax1.set(ylabel=\"Crashes\",xlabel=\"Years\")\n",
    "ax1.set_title(\"Crashes per year\",fontsize=15)\n",
    "ax1.set_xticklabels(crashes_year.index,rotation=75,fontsize=9)\n",
    "\n",
    "\n",
    "ax2 = fig.add_subplot(3,1,2)\n",
    "sns.barplot(x=crashes_hour.index,y=crashes_hour.values,ax=ax2,color='r')\n",
    "ax2.set(ylabel=\"Crashes\",xlabel=\"Hour\")\n",
    "ax2.set_title(\"Crashes in a 24 hour day\",fontsize=15)\n",
    "ax2.set_xticklabels(crashes_hour.index,rotation=75,fontsize=9)\n",
    "\n",
    "ax3 = fig.add_subplot(3,1,3)\n",
    "sns.barplot(x=crashes_month.index,y=crashes_month.values,ax=ax3,color='seagreen')\n",
    "ax3.set(ylabel=\"Crashes\",xlabel=\"Month\")\n",
    "ax3.set_title(\"Crashes in a month\",fontsize=15)\n",
    "ax3.set_xticklabels(months,fontsize=12)\n",
    "\n",
    "\n",
    "plt.tight_layout(w_pad=4, h_pad=3)\n",
    "plt.show()"
   ]
  },
  {
   "cell_type": "markdown",
   "metadata": {},
   "source": [
    "As we can see, the crashes definitely show an upward trend, But we should also keep in mind the proportional increase in flying in general. "
   ]
  },
  {
   "cell_type": "code",
   "execution_count": null,
   "metadata": {
    "collapsed": false
   },
   "outputs": [],
   "source": []
  },
  {
   "cell_type": "code",
   "execution_count": null,
   "metadata": {
    "collapsed": false
   },
   "outputs": [],
   "source": []
  },
  {
   "cell_type": "code",
   "execution_count": null,
   "metadata": {
    "collapsed": true
   },
   "outputs": [],
   "source": []
  }
 ],
 "metadata": {
  "kernelspec": {
   "display_name": "Python 2",
   "language": "python",
   "name": "python2"
  },
  "language_info": {
   "codemirror_mode": {
    "name": "ipython",
    "version": 2
   },
   "file_extension": ".py",
   "mimetype": "text/x-python",
   "name": "python",
   "nbconvert_exporter": "python",
   "pygments_lexer": "ipython2",
   "version": "2.7.11"
  }
 },
 "nbformat": 4,
 "nbformat_minor": 0
}
