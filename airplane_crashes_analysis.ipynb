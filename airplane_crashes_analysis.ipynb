{
 "cells": [
  {
   "cell_type": "markdown",
   "metadata": {},
   "source": [
    "# Airplane crash investigation analysis\n",
    "\n",
    "* Description\n",
    "* Dataset\n",
    "* Goal\n",
    "* Imports & Constants\n",
    "* Data Exploration\n",
    "* 1) How many planes crashed yearly? Is there any pattern in the day, month or time of the plane crash?\n",
    "* 2) How many people were on board? how many survived? how many died?\n",
    "\n",
    "\n",
    "## Description\n",
    "\n",
    "NOTE: This dataset was taken from kaggle - \n",
    "https://www.kaggle.com/saurograndi/airplane-crashes-since-1908\n",
    "\n",
    "## Dataset\n",
    "\n",
    "Analysis of the public dataset: \"Airplane Crashes and Fatalities Since 1908\" (Full history of airplane crashes throughout the world, from 1908-present) hosted by Open Data by Socrata available at:\n",
    "\n",
    "https://opendata.socrata.com/Government/Airplane-Crashes-and-Fatalities-Since-1908/q2te-8cvq\n",
    "\n",
    "## Goal\n",
    "\n",
    "We will try to answer these questions through the analysis - \n",
    "\n",
    "1) How many planes crashed yearly? Is there any pattern in the day, month or time of the plane crash?\n",
    "\n",
    "2) How many people were on board? how many survived? how many died?\n",
    "\n",
    "3) Highest number of crashes by operator and Type of aircrafts.\n",
    "\n",
    "4) ‘Summary’ field has the details about the crashes. Find the reasons of the crash and categorize them in different clusters i.e Fire, shot down, weather (for the ‘Blanks’ in the data category can be UNKNOWN) you are open to make clusters of your choice but they should not exceed 7.\n",
    "\n",
    "5) Find the number of crashed aircrafts and number of deaths against each category from above step."
   ]
  },
  {
   "cell_type": "markdown",
   "metadata": {},
   "source": [
    "## Imports & Constants"
   ]
  },
  {
   "cell_type": "code",
   "execution_count": 1,
   "metadata": {
    "collapsed": true
   },
   "outputs": [],
   "source": [
    "import warnings\n",
    "warnings.filterwarnings(\"ignore\", category=UserWarning)"
   ]
  },
  {
   "cell_type": "code",
   "execution_count": null,
   "metadata": {
    "collapsed": true
   },
   "outputs": [],
   "source": [
    "from __future__ import division\n",
    "import numpy as np\n",
    "import pandas as pd\n",
    "pd.options.mode.chained_assignment = None\n",
    "import matplotlib.pyplot as plt\n",
    "import seaborn as sns\n",
    "sns.set(style=\"whitegrid\")\n",
    "sns.set_color_codes(\"pastel\")\n",
    "import datetime\n",
    "%matplotlib inline"
   ]
  },
  {
   "cell_type": "markdown",
   "metadata": {},
   "source": [
    "## Data Exploration"
   ]
  },
  {
   "cell_type": "markdown",
   "metadata": {},
   "source": [
    "Reading the data into a dataframe"
   ]
  },
  {
   "cell_type": "code",
   "execution_count": null,
   "metadata": {
    "collapsed": false
   },
   "outputs": [],
   "source": [
    "crash = pd.read_csv(\"Airplane_Crashes_and_Fatalities_Since_1908.csv\",low_memory=False)\n",
    "crash.head()"
   ]
  },
  {
   "cell_type": "markdown",
   "metadata": {},
   "source": [
    "Checking the datatypes of all the columns in the dataframe"
   ]
  },
  {
   "cell_type": "code",
   "execution_count": null,
   "metadata": {
    "collapsed": false
   },
   "outputs": [],
   "source": [
    "crash.dtypes"
   ]
  },
  {
   "cell_type": "markdown",
   "metadata": {},
   "source": [
    "Checking each column to see how much percentage of each column has null values in it. This is to determine which columns would be more significant for analysis."
   ]
  },
  {
   "cell_type": "code",
   "execution_count": null,
   "metadata": {
    "collapsed": false,
    "scrolled": true
   },
   "outputs": [],
   "source": [
    "ind = []\n",
    "val = []\n",
    "for col in crash.columns:\n",
    "    ind.append(col + \" % null : \")\n",
    "    try: \n",
    "        value = (pd.isnull(crash[col]).value_counts()[True]/crash.shape[0])*100\n",
    "    except:\n",
    "        value = 0\n",
    "    val.append(round(value,3))\n",
    "    \n",
    "null_table = pd.Series(val,index=ind)\n",
    "null_table.sort_values()"
   ]
  },
  {
   "cell_type": "markdown",
   "metadata": {},
   "source": [
    "Checking summary statistics to understand the numerical columns of the dataframe"
   ]
  },
  {
   "cell_type": "code",
   "execution_count": null,
   "metadata": {
    "collapsed": false
   },
   "outputs": [],
   "source": [
    "crash.describe()"
   ]
  },
  {
   "cell_type": "markdown",
   "metadata": {},
   "source": [
    "Note: I was not able to find out what the column \"ground\" stands for. Will continue looking but for now, I am excluding that from this analysis"
   ]
  },
  {
   "cell_type": "markdown",
   "metadata": {},
   "source": [
    "### 1) How many planes crashed yearly? Is there any pattern in the day, month or time of the plane crash?"
   ]
  },
  {
   "cell_type": "code",
   "execution_count": null,
   "metadata": {
    "collapsed": false
   },
   "outputs": [],
   "source": [
    "# changing the datatype of \"Date\" column from string type to datetime datatype\n",
    "crash[\"Date\"] = pd.to_datetime(crash[\"Date\"])\n",
    "\n",
    "# changing the datatype of \"Time\" column from string to datetime format\n",
    "\n",
    "def make_datetime(x):\n",
    "    try: \n",
    "        return datetime.datetime.strptime(x, '%H:%M').time()\n",
    "    except:\n",
    "        return np.nan\n",
    "\n",
    "crash[\"Time\"] = crash[\"Time\"].apply(make_datetime)"
   ]
  },
  {
   "cell_type": "code",
   "execution_count": null,
   "metadata": {
    "collapsed": false
   },
   "outputs": [],
   "source": [
    "# Extracting the year, month and day out of the Date column\n",
    "crash[\"Year\"] = crash[\"Date\"].apply(lambda x: x.year)\n",
    "months = [\"January\",\"February\",\"March\",\"April\",\"May\", \"June\", \"July\",\"August\",\"September\",\"October\",\"November\",\"December\"]\n",
    "crash[\"Month\"] = crash[\"Date\"].apply(lambda x: x.month)\n",
    "crash[\"Day\"] = crash[\"Date\"].apply(lambda x: x.day)\n",
    "\n",
    "# Extracting the hour out of the time column\n",
    "# dropping null columns for this analysis\n",
    "crash_time = crash.dropna(subset=[\"Time\"])\n",
    "crash_time[\"Hour\"] = crash_time[\"Time\"].apply(lambda x: x.hour)"
   ]
  },
  {
   "cell_type": "code",
   "execution_count": null,
   "metadata": {
    "collapsed": false
   },
   "outputs": [],
   "source": [
    "crashes_year = crash[\"Year\"].value_counts().sort_index()\n",
    "crashes_hour = crash_time[\"Hour\"].value_counts().sort_index()\n",
    "crashes_month = crash[\"Month\"].value_counts().sort_index()\n",
    "\n",
    "fig = plt.figure(figsize=(15,15))\n",
    "ax1 = fig.add_subplot(3,1,1)\n",
    "sns.barplot(x=crashes_year.index,y=crashes_year.values,ax=ax1,color='b')\n",
    "ax1.set(ylabel=\"Crashes\",xlabel=\"Years\")\n",
    "ax1.set_title(\"Crashes per year\",fontsize=15)\n",
    "ax1.set_xticklabels(crashes_year.index,rotation=75,fontsize=9)\n",
    "\n",
    "\n",
    "ax2 = fig.add_subplot(3,1,2)\n",
    "sns.barplot(x=crashes_hour.index,y=crashes_hour.values,ax=ax2,color='r')\n",
    "ax2.set(ylabel=\"Crashes\",xlabel=\"Hour\")\n",
    "ax2.set_title(\"Crashes in a 24 hour day\",fontsize=15)\n",
    "ax2.set_xticklabels(crashes_hour.index,rotation=75,fontsize=9)\n",
    "\n",
    "ax3 = fig.add_subplot(3,1,3)\n",
    "sns.barplot(x=crashes_month.index,y=crashes_month.values,ax=ax3)\n",
    "ax3.set(ylabel=\"Crashes\",xlabel=\"Month\")\n",
    "ax3.set_title(\"Crashes in a month\",fontsize=15)\n",
    "ax3.set_xticklabels(months,fontsize=12)\n",
    "\n",
    "\n",
    "plt.tight_layout(w_pad=4, h_pad=3)\n",
    "plt.show()"
   ]
  },
  {
   "cell_type": "markdown",
   "metadata": {},
   "source": [
    "**Insights**\n",
    "\n",
    "1) We can see in the first plot that, there is a general upward trend in the number of crasher per year until the 1970s and then a steady decline until 2009. We should also keep in mind the proportion increase in flying as a whole. \n",
    "\n",
    "2) In the second plot, we can see that there is an increase in the number of crashes as the sun rises and the day progresses and then a decline in the number of crashes as the sun sets. This is a very interesting phenomenon. Could it be because there is more air traffic during the day compared to the evening and night hours?\n",
    "\n",
    "3) In the third plot, we can see that there is the most crashes happen in December and January and the least in April, May, June and July. This could be due to the harsh weather in the winter compared to the summer months"
   ]
  },
  {
   "cell_type": "markdown",
   "metadata": {},
   "source": [
    "## 2) How many people were on board? how many survived? how many died?"
   ]
  },
  {
   "cell_type": "code",
   "execution_count": null,
   "metadata": {
    "collapsed": false
   },
   "outputs": [],
   "source": [
    "# dropping null values from Aboard and Fatalities columns and see if there are any outliers (like Fatalities being\n",
    "# greater than Aboard)\n",
    "crash[[\"Aboard\",\"Fatalities\"]].dropna()[crash[\"Fatalities\"] > crash[\"Aboard\"]]"
   ]
  },
  {
   "cell_type": "code",
   "execution_count": null,
   "metadata": {
    "collapsed": false
   },
   "outputs": [],
   "source": [
    "# calculating the \"Survived\" column\n",
    "crash[\"Survivors\"] = crash[\"Aboard\"] - crash[\"Fatalities\"]\n",
    "# calculating the total number of survived and fatalaties for each year\n",
    "aboard_fatalities = crash.pivot_table(values=[\"Survivors\",\"Fatalities\"],index=\"Year\",aggfunc=np.sum)\n",
    "aboard_fatalities.head()"
   ]
  },
  {
   "cell_type": "code",
   "execution_count": null,
   "metadata": {
    "collapsed": false
   },
   "outputs": [],
   "source": [
    "fig = plt.figure(figsize=(15,5))\n",
    "ax = fig.add_subplot(1,1,1)\n",
    "aboard_fatalities.plot(kind=\"bar\",stacked=True,ax=ax)\n",
    "plt.title(\"Fatalities and Survivors over the years\",fontsize=15)\n",
    "plt.show()"
   ]
  },
  {
   "cell_type": "markdown",
   "metadata": {},
   "source": [
    "As it is quite clear, there are a large number of fatalities compared to the survivors for crashes in each year"
   ]
  },
  {
   "cell_type": "markdown",
   "metadata": {},
   "source": [
    "##  2) Highest number of crashes and fatalities by operator and Type of aircrafts"
   ]
  },
  {
   "cell_type": "code",
   "execution_count": null,
   "metadata": {
    "collapsed": false,
    "scrolled": false
   },
   "outputs": [],
   "source": [
    "# operators with highest number of fatalities\n",
    "top_crash = crash.pivot_table(values=\"Fatalities\",index=\"Operator\",aggfunc=np.sum).sort_values(ascending=False).head(10)\n",
    "\n",
    "fig = plt.figure(figsize=(13,15))\n",
    "\n",
    "# plotting the operators with highest number of crashes\n",
    "ax1 = fig.add_subplot(2,1,1)\n",
    "sns.barplot(x=crash[\"Operator\"].value_counts().head(30).index,y=crash[\"Operator\"].value_counts().head(30).values,ax=ax1,\n",
    "            color='r')\n",
    "ax1.set_ylabel(\"Crashes\",fontsize=12)\n",
    "ax1.set_xticklabels(crash[\"Operator\"].value_counts().head(30).index,rotation=90,fontsize=12)\n",
    "ax1.set_title(\"Operators with highest number of crashes\",fontsize=15)\n",
    "\n",
    "#plotting the operators with highest number of fatalities\n",
    "ax2 = fig.add_subplot(2,2,3)\n",
    "sns.barplot(x=top_crash.index,y=top_crash.values,ax=ax2,color='b')\n",
    "ax2.set_ylabel(\"Fatalities\",fontsize=12)\n",
    "ax2.set_xlabel(\"\")\n",
    "ax2.set_xticklabels(top_crash.index,rotation=90,fontsize=12)\n",
    "ax2.set_title(\"Operators with highest number of fatalities\",fontsize=15)\n",
    "\n",
    "# plotting aircrafts with highest number of crashes\n",
    "ax3 = fig.add_subplot(2,2,4)\n",
    "crash[\"Type\"].value_counts().head(20).plot(kind='bar',color='g',ax=ax3)\n",
    "ax3.set_ylabel(\"Crashes\",fontsize=12)\n",
    "ax3.set_xticklabels(crash[\"Type\"].value_counts().head(20).index,rotation=90,fontsize=12)\n",
    "ax3.xaxis.grid(False)\n",
    "ax3.set_title(\"Highest number of crashes by type of aircraft\",fontsize=15)\n",
    "\n",
    "\n",
    "plt.tight_layout(w_pad=4, h_pad=3)\n",
    "plt.show()"
   ]
  },
  {
   "cell_type": "code",
   "execution_count": null,
   "metadata": {
    "collapsed": false
   },
   "outputs": [],
   "source": []
  },
  {
   "cell_type": "code",
   "execution_count": null,
   "metadata": {
    "collapsed": false
   },
   "outputs": [],
   "source": []
  },
  {
   "cell_type": "code",
   "execution_count": null,
   "metadata": {
    "collapsed": true
   },
   "outputs": [],
   "source": []
  }
 ],
 "metadata": {
  "kernelspec": {
   "display_name": "Python 2",
   "language": "python",
   "name": "python2"
  },
  "language_info": {
   "codemirror_mode": {
    "name": "ipython",
    "version": 2
   },
   "file_extension": ".py",
   "mimetype": "text/x-python",
   "name": "python",
   "nbconvert_exporter": "python",
   "pygments_lexer": "ipython2",
   "version": "2.7.11"
  }
 },
 "nbformat": 4,
 "nbformat_minor": 0
}
